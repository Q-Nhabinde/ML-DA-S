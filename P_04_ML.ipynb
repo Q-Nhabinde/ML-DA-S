{
  "cells": [
    {
      "cell_type": "markdown",
      "metadata": {
        "id": "view-in-github",
        "colab_type": "text"
      },
      "source": [
        "<a href=\"https://colab.research.google.com/github/Q-Nhabinde/ML-DA-S/blob/main/P_04_ML.ipynb\" target=\"_parent\"><img src=\"https://colab.research.google.com/assets/colab-badge.svg\" alt=\"Open In Colab\"/></a>"
      ]
    },
    {
      "cell_type": "code",
      "execution_count": null,
      "metadata": {
        "id": "kuWINl2iTm2i"
      },
      "outputs": [],
      "source": [
        "Basics Level"
      ]
    },
    {
      "cell_type": "code",
      "execution_count": null,
      "metadata": {
        "id": "vyAFSGFjTm2j"
      },
      "outputs": [],
      "source": [
        "import numpy as np\n",
        "import pandas as pd\n",
        "import matplotlib.pyplot as plt"
      ]
    },
    {
      "cell_type": "code",
      "execution_count": null,
      "metadata": {
        "id": "p58JCax4Tm2k",
        "outputId": "6d02f037-d33e-4085-d9be-738388352318"
      },
      "outputs": [
        {
          "name": "stdout",
          "output_type": "stream",
          "text": [
            "0     2\n",
            "1     4\n",
            "2     6\n",
            "3     8\n",
            "4    10\n",
            "dtype: int64\n"
          ]
        }
      ],
      "source": [
        "#1. Write a Pandas program to create and display a one-dimensional array-like object containing an array of data.\n",
        "\n",
        "ds = pd.Series([2, 4, 6, 8, 10])\n",
        "print(ds)"
      ]
    },
    {
      "cell_type": "code",
      "execution_count": null,
      "metadata": {
        "id": "-qBCZrfsTm2k",
        "outputId": "6f277329-a95d-4de8-d739-d2f6c04f7bae"
      },
      "outputs": [
        {
          "name": "stdout",
          "output_type": "stream",
          "text": [
            "Pandas Series and type\n",
            "0     2\n",
            "1     4\n",
            "2     6\n",
            "3     8\n",
            "4    10\n",
            "dtype: int64\n",
            "<class 'pandas.core.series.Series'>\n",
            "Convert Pandas Series to Python list\n",
            "[2, 4, 6, 8, 10]\n",
            "<class 'list'>\n"
          ]
        }
      ],
      "source": [
        "#2. Write a Pandas program to convert a Panda module Series to Python list and it’sntype.\n",
        "\n",
        "ds = pd.Series([2, 4, 6, 8, 10])\n",
        "print(\"Pandas Series and type\")\n",
        "print(ds)\n",
        "print(type(ds))\n",
        "print(\"Convert Pandas Series to Python list\")\n",
        "print(ds.tolist())\n",
        "print(type(ds.tolist()))"
      ]
    },
    {
      "cell_type": "code",
      "execution_count": null,
      "metadata": {
        "id": "awciQl4QTm2l",
        "outputId": "397319d4-1881-4ca0-c7e4-816315471c5d"
      },
      "outputs": [
        {
          "name": "stdout",
          "output_type": "stream",
          "text": [
            "Original dictionary:\n",
            "{'a': 100, 'b': 200, 'c': 300, 'd': 400, 'e': 800}\n",
            "Converted series:\n",
            "a    100\n",
            "b    200\n",
            "c    300\n",
            "d    400\n",
            "e    800\n",
            "dtype: int64\n"
          ]
        }
      ],
      "source": [
        "#3. Write a Pandas program to convert a dictionary to a Pandas series. Sample\n",
        "#dictionary: d1 = {'a': 100, 'b': 200, 'c':300, 'd':400, 'e':800}\n",
        "\n",
        "d1 = {'a': 100, 'b': 200, 'c':300, 'd':400, 'e':800}\n",
        "print(\"Original dictionary:\")\n",
        "print(d1)\n",
        "new_series = pd.Series(d1)\n",
        "print(\"Converted series:\")\n",
        "print(new_series)"
      ]
    },
    {
      "cell_type": "code",
      "execution_count": null,
      "metadata": {
        "id": "JMxApFp1Tm2l",
        "outputId": "93251a45-f947-45b2-82da-54460114a44c"
      },
      "outputs": [
        {
          "name": "stdout",
          "output_type": "stream",
          "text": [
            "NumPy array:\n",
            "[10 20 30 40 50]\n",
            "Converted Pandas series:\n",
            "0    10\n",
            "1    20\n",
            "2    30\n",
            "3    40\n",
            "4    50\n",
            "dtype: int32\n"
          ]
        }
      ],
      "source": [
        "#4. Write a Pandas program to convert a NumPy array to a Pandas series.\n",
        "\n",
        "np_array = np.array([10, 20, 30, 40, 50])\n",
        "print(\"NumPy array:\")\n",
        "print(np_array)\n",
        "new_series = pd.Series(np_array)\n",
        "print(\"Converted Pandas series:\")\n",
        "print(new_series)"
      ]
    },
    {
      "cell_type": "code",
      "execution_count": null,
      "metadata": {
        "id": "yMnYoF7tTm2l",
        "outputId": "1653057a-fe36-44e3-81e4-5304333fb879"
      },
      "outputs": [
        {
          "name": "stdout",
          "output_type": "stream",
          "text": [
            "Original Data Series:\n",
            "0       100\n",
            "1       200\n",
            "2    python\n",
            "3    300.12\n",
            "4       400\n",
            "dtype: object\n",
            "Change the said data type to numeric:\n",
            "0    100.00\n",
            "1    200.00\n",
            "2       NaN\n",
            "3    300.12\n",
            "4    400.00\n",
            "dtype: float64\n"
          ]
        }
      ],
      "source": [
        "#5. Write a Pandas program to change the data type of given a column or a Series\n",
        "\n",
        "s1 = pd.Series(['100', '200', 'python', '300.12',\n",
        "'400'])\n",
        "print(\"Original Data Series:\")\n",
        "print(s1)\n",
        "print(\"Change the said data type to numeric:\")\n",
        "s2 = pd.to_numeric(s1, errors='coerce')\n",
        "print(s2)"
      ]
    },
    {
      "cell_type": "code",
      "execution_count": null,
      "metadata": {
        "id": "p8p2I1-VTm2l",
        "outputId": "132428b7-d8d1-4f98-fd5d-6c5fec0a970d"
      },
      "outputs": [
        {
          "name": "stdout",
          "output_type": "stream",
          "text": [
            "Original DataFrame\n",
            "   col1  col2  col3\n",
            "0     1     4     7\n",
            "1     2     5     5\n",
            "2     3     6     8\n",
            "3     4     9    12\n",
            "4     7     5     1\n",
            "5    11     0    11\n"
          ]
        },
        {
          "ename": "AttributeError",
          "evalue": "'DataFrame' object has no attribute 'ix'",
          "output_type": "error",
          "traceback": [
            "\u001b[1;31m---------------------------------------------------------------------------\u001b[0m",
            "\u001b[1;31mAttributeError\u001b[0m                            Traceback (most recent call last)",
            "Input \u001b[1;32mIn [11]\u001b[0m, in \u001b[0;36m<cell line: 10>\u001b[1;34m()\u001b[0m\n\u001b[0;32m      8\u001b[0m \u001b[38;5;28mprint\u001b[39m(\u001b[38;5;124m\"\u001b[39m\u001b[38;5;124mOriginal DataFrame\u001b[39m\u001b[38;5;124m\"\u001b[39m)\n\u001b[0;32m      9\u001b[0m \u001b[38;5;28mprint\u001b[39m(df)\n\u001b[1;32m---> 10\u001b[0m s1 \u001b[38;5;241m=\u001b[39m \u001b[43mdf\u001b[49m\u001b[38;5;241;43m.\u001b[39;49m\u001b[43mix\u001b[49m[:,\u001b[38;5;241m0\u001b[39m]\n\u001b[0;32m     11\u001b[0m \u001b[38;5;28mprint\u001b[39m(\u001b[38;5;124m\"\u001b[39m\u001b[38;5;130;01m\\n\u001b[39;00m\u001b[38;5;124m1st column as a Series:\u001b[39m\u001b[38;5;124m\"\u001b[39m)\n\u001b[0;32m     13\u001b[0m \u001b[38;5;28mprint\u001b[39m(s1)\n",
            "File \u001b[1;32m~\\anaconda3\\lib\\site-packages\\pandas\\core\\generic.py:5575\u001b[0m, in \u001b[0;36mNDFrame.__getattr__\u001b[1;34m(self, name)\u001b[0m\n\u001b[0;32m   5568\u001b[0m \u001b[38;5;28;01mif\u001b[39;00m (\n\u001b[0;32m   5569\u001b[0m     name \u001b[38;5;129;01mnot\u001b[39;00m \u001b[38;5;129;01min\u001b[39;00m \u001b[38;5;28mself\u001b[39m\u001b[38;5;241m.\u001b[39m_internal_names_set\n\u001b[0;32m   5570\u001b[0m     \u001b[38;5;129;01mand\u001b[39;00m name \u001b[38;5;129;01mnot\u001b[39;00m \u001b[38;5;129;01min\u001b[39;00m \u001b[38;5;28mself\u001b[39m\u001b[38;5;241m.\u001b[39m_metadata\n\u001b[0;32m   5571\u001b[0m     \u001b[38;5;129;01mand\u001b[39;00m name \u001b[38;5;129;01mnot\u001b[39;00m \u001b[38;5;129;01min\u001b[39;00m \u001b[38;5;28mself\u001b[39m\u001b[38;5;241m.\u001b[39m_accessors\n\u001b[0;32m   5572\u001b[0m     \u001b[38;5;129;01mand\u001b[39;00m \u001b[38;5;28mself\u001b[39m\u001b[38;5;241m.\u001b[39m_info_axis\u001b[38;5;241m.\u001b[39m_can_hold_identifiers_and_holds_name(name)\n\u001b[0;32m   5573\u001b[0m ):\n\u001b[0;32m   5574\u001b[0m     \u001b[38;5;28;01mreturn\u001b[39;00m \u001b[38;5;28mself\u001b[39m[name]\n\u001b[1;32m-> 5575\u001b[0m \u001b[38;5;28;01mreturn\u001b[39;00m \u001b[38;5;28;43mobject\u001b[39;49m\u001b[38;5;241;43m.\u001b[39;49m\u001b[38;5;21;43m__getattribute__\u001b[39;49m\u001b[43m(\u001b[49m\u001b[38;5;28;43mself\u001b[39;49m\u001b[43m,\u001b[49m\u001b[43m \u001b[49m\u001b[43mname\u001b[49m\u001b[43m)\u001b[49m\n",
            "\u001b[1;31mAttributeError\u001b[0m: 'DataFrame' object has no attribute 'ix'"
          ]
        }
      ],
      "source": [
        "#6. Write a Pandas program to convert the first column of a Data frame as a Series.\n",
        "\n",
        "d = {'col1': [1, 2, 3, 4, 7, 11],\n",
        "     'col2': [4, 5, 6, 9, 5, 0],\n",
        "     'col3': [7, 5, 8, 12, 1,11]}\n",
        "\n",
        "df = pd.DataFrame(data=d)\n",
        "print(\"Original DataFrame\")\n",
        "print(df)\n",
        "s1 = df.ix[:,0]\n",
        "print(\"\\n1st column as a Series:\")\n",
        "\n",
        "print(s1)\n",
        "print(type(s1))"
      ]
    },
    {
      "cell_type": "code",
      "execution_count": null,
      "metadata": {
        "id": "5PMInuLWTm2m",
        "outputId": "04eca0c4-fe71-4e8c-9de3-a23810d01cd3"
      },
      "outputs": [
        {
          "name": "stdout",
          "output_type": "stream",
          "text": [
            "Original DataFrames:\n",
            "  student_id              name  marks\n",
            "0         S1  Danniella Fenton    200\n",
            "1         S2      Ryder Storey    210\n",
            "2         S3      Bryce Jensen    190\n",
            "3         S4         Ed Bernal    222\n",
            "4         S5       Kwame Morin    199\n",
            "-------------------------------------\n",
            "  student_id              name  marks\n",
            "0         S4  Scarlette Fisher    201\n",
            "1         S5  Carla Williamson    200\n",
            "2         S6       Dante Morse    198\n",
            "3         S7    Kaiser William    219\n",
            "4         S8   Madeeha Preston    201\n",
            "\n",
            "Join the said two dataframes along rows:\n",
            "  student_id              name  marks\n",
            "0         S1  Danniella Fenton    200\n",
            "1         S2      Ryder Storey    210\n",
            "2         S3      Bryce Jensen    190\n",
            "3         S4         Ed Bernal    222\n",
            "4         S5       Kwame Morin    199\n",
            "0         S4  Scarlette Fisher    201\n",
            "1         S5  Carla Williamson    200\n",
            "2         S6       Dante Morse    198\n",
            "3         S7    Kaiser William    219\n",
            "4         S8   Madeeha Preston    201\n"
          ]
        }
      ],
      "source": [
        "#7. Write a Pandas program to join the two given data frames along rows and assign all data.\n",
        "\n",
        "student_data1 = pd.DataFrame({\n",
        "'student_id': ['S1', 'S2', 'S3', 'S4', 'S5'],\n",
        "'name': ['Danniella Fenton', 'Ryder Storey',\n",
        "'Bryce Jensen', 'Ed Bernal', 'Kwame Morin'],\n",
        "'marks': [200, 210, 190, 222, 199]})\n",
        "\n",
        "student_data2 = pd.DataFrame({\n",
        "'student_id': ['S4', 'S5', 'S6', 'S7', 'S8'],\n",
        "'name': ['Scarlette Fisher', 'Carla Williamson',\n",
        "'Dante Morse', 'Kaiser William', 'Madeeha Preston'],\n",
        "'marks': [201, 200, 198, 219, 201]})\n",
        "\n",
        "print(\"Original DataFrames:\")\n",
        "print(student_data1)\n",
        "print(\"-------------------------------------\")\n",
        "\n",
        "print(student_data2)\n",
        "print(\"\\nJoin the said two dataframes along rows:\")\n",
        "result_data = pd.concat([student_data1, student_data2])\n",
        "print(result_data)"
      ]
    },
    {
      "cell_type": "code",
      "execution_count": null,
      "metadata": {
        "id": "9GKaAVnmTm2m",
        "outputId": "1b36b838-9b51-45b9-818d-9827953549f9"
      },
      "outputs": [
        {
          "data": {
            "text/html": [
              "<div>\n",
              "<style scoped>\n",
              "    .dataframe tbody tr th:only-of-type {\n",
              "        vertical-align: middle;\n",
              "    }\n",
              "\n",
              "    .dataframe tbody tr th {\n",
              "        vertical-align: top;\n",
              "    }\n",
              "\n",
              "    .dataframe thead th {\n",
              "        text-align: right;\n",
              "    }\n",
              "</style>\n",
              "<table border=\"1\" class=\"dataframe\">\n",
              "  <thead>\n",
              "    <tr style=\"text-align: right;\">\n",
              "      <th></th>\n",
              "      <th>col1</th>\n",
              "    </tr>\n",
              "  </thead>\n",
              "  <tbody>\n",
              "    <tr>\n",
              "      <th>0</th>\n",
              "      <td>9</td>\n",
              "    </tr>\n",
              "    <tr>\n",
              "      <th>1</th>\n",
              "      <td>11</td>\n",
              "    </tr>\n",
              "    <tr>\n",
              "      <th>2</th>\n",
              "      <td>13</td>\n",
              "    </tr>\n",
              "    <tr>\n",
              "      <th>3</th>\n",
              "      <td>15</td>\n",
              "    </tr>\n",
              "    <tr>\n",
              "      <th>4</th>\n",
              "      <td>17</td>\n",
              "    </tr>\n",
              "    <tr>\n",
              "      <th>5</th>\n",
              "      <td>19</td>\n",
              "    </tr>\n",
              "  </tbody>\n",
              "</table>\n",
              "</div>"
            ],
            "text/plain": [
              "   col1\n",
              "0     9\n",
              "1    11\n",
              "2    13\n",
              "3    15\n",
              "4    17\n",
              "5    19"
            ]
          },
          "execution_count": 9,
          "metadata": {},
          "output_type": "execute_result"
        }
      ],
      "source": [
        "#8. Filter a specific rows/columns from the data frame\n",
        "\n",
        "x = pd.DataFrame({\"col1\" : np.arange(1,20,2)}, index=[9,8,7,6,0, 1, 2, 3, 4, 5])\n",
        "x.iloc[0:5]\n",
        "x.loc[0:5]"
      ]
    },
    {
      "cell_type": "code",
      "execution_count": null,
      "metadata": {
        "id": "ekubeqvNTm2m",
        "outputId": "9fd04f80-9a8c-4612-e663-ff362312e351"
      },
      "outputs": [
        {
          "name": "stdout",
          "output_type": "stream",
          "text": [
            "     name ctg   val  val2\n",
            "0    Jane   A  0.61     7\n",
            "1    John   A  0.03     7\n",
            "2  Ashley   C  0.43     8\n",
            "3    Mike   B  0.62     8\n",
            "4   Emily   B  0.30     3\n",
            "5    Jack   C  0.63     2\n",
            "6  Catlin   B  0.82     8\n"
          ]
        }
      ],
      "source": [
        "#9. Create a custom data frame and apply logical, query and filter methods on the same\n",
        "\n",
        "df= pd.DataFrame({\n",
        "'name':['Jane','John','Ashley','Mike','Emily','Jack','Catlin'],\n",
        "'ctg':['A','A','C','B','B','C','B'],\n",
        "'val':np.random.random(7).round(2),\n",
        "'val2':np.random.randint(1,10, size=7)\n",
        "})\n",
        "\n",
        "print(df)"
      ]
    },
    {
      "cell_type": "code",
      "execution_count": null,
      "metadata": {
        "id": "6GXxgcJXTm2m",
        "outputId": "56142dca-f793-469f-9692-2aff02010c26"
      },
      "outputs": [
        {
          "name": "stdout",
          "output_type": "stream",
          "text": [
            "DataFrame:\n",
            "Mean:Computed column-wise:\n",
            "D1    136.8\n",
            "D2     42.2\n",
            "D3     72.4\n",
            "D4    101.8\n",
            "dtype: float64\n",
            "Mean:Computed row-wise:\n",
            "0    87.50\n",
            "1    88.50\n",
            "2    87.50\n",
            "3    88.75\n",
            "4    89.25\n",
            "dtype: float64\n",
            "Median:Computed column-wise:\n",
            "D1    137.0\n",
            "D2     42.0\n",
            "D3     72.0\n",
            "D4    102.0\n",
            "dtype: float64\n",
            "Median:Computed row-wise:\n",
            "0    86.0\n",
            "1    87.5\n",
            "2    86.0\n",
            "3    87.5\n",
            "4    88.5\n",
            "dtype: float64\n",
            "Mode:Computed column-wise:\n",
            "    D1  D2  D3   D4\n",
            "0  138  42  72  100\n",
            "Mode:Computed row-wise:\n",
            "    0   1    2    3\n",
            "0  43  72  100  135\n",
            "1  42  73  102  137\n",
            "2  42  72  100  136\n",
            "3  42  72  103  138\n",
            "4  42  73  104  138\n"
          ]
        }
      ],
      "source": [
        "#11. Calculate the mean, median and mode for the following data frame.\n",
        "dataMatrix = {\"D1\":[135, 137, 136, 138, 138],\n",
        "\"D2\":[43, 42, 42, 42, 42],\n",
        "\"D3\":[72, 73, 72, 72, 73],\n",
        "\"D4\":[100, 102, 100, 103, 104] };\n",
        "dataFrame = pd.DataFrame(data=dataMatrix);\n",
        "print(\"DataFrame:\");\n",
        "\n",
        "print(\"Mean:Computed column-wise:\");\n",
        "meanData = dataFrame.mean();\n",
        "print(meanData);\n",
        "\n",
        "print(\"Mean:Computed row-wise:\");\n",
        "meanData = dataFrame.mean(axis=1);\n",
        "print(meanData);\n",
        "\n",
        "print(\"Median:Computed column-wise:\");\n",
        "medianData = dataFrame.median();\n",
        "\n",
        "print(medianData);\n",
        "\n",
        "print(\"Median:Computed row-wise:\");\n",
        "medianData = dataFrame.median(axis=1);\n",
        "print(medianData);\n",
        "\n",
        "print(\"Mode:Computed column-wise:\");\n",
        "modeData = dataFrame.mode();\n",
        "print(modeData);\n",
        "\n",
        "print(\"Mode:Computed row-wise:\");\n",
        "modeData = dataFrame.mode(axis=1);\n",
        "print(modeData);"
      ]
    },
    {
      "cell_type": "code",
      "execution_count": null,
      "metadata": {
        "id": "wLv9-lh4Tm2m"
      },
      "outputs": [],
      "source": [
        "#Intermediate Level:"
      ]
    },
    {
      "cell_type": "code",
      "execution_count": null,
      "metadata": {
        "id": "vEUSV91tTm2m",
        "outputId": "28b943ee-7710-4aea-bdfb-f4458853a0ac"
      },
      "outputs": [
        {
          "name": "stdout",
          "output_type": "stream",
          "text": [
            "       0              1             2              3             4  \\\n",
            "0     Id  SepalLengthCm  SepalWidthCm  PetalLengthCm  PetalWidthCm   \n",
            "1      1            5.1           3.5            1.4           0.2   \n",
            "2      2            4.9           3.0            1.4           0.2   \n",
            "3      3            4.7           3.2            1.3           0.2   \n",
            "4      4            4.6           3.1            1.5           0.2   \n",
            "..   ...            ...           ...            ...           ...   \n",
            "146  146            6.7           3.0            5.2           2.3   \n",
            "147  147            6.3           2.5            5.0           1.9   \n",
            "148  148            6.5           3.0            5.2           2.0   \n",
            "149  149            6.2           3.4            5.4           2.3   \n",
            "150  150            5.9           3.0            5.1           1.8   \n",
            "\n",
            "                  5  \n",
            "0           Species  \n",
            "1       Iris-setosa  \n",
            "2       Iris-setosa  \n",
            "3       Iris-setosa  \n",
            "4       Iris-setosa  \n",
            "..              ...  \n",
            "146  Iris-virginica  \n",
            "147  Iris-virginica  \n",
            "148  Iris-virginica  \n",
            "149  Iris-virginica  \n",
            "150  Iris-virginica  \n",
            "\n",
            "[151 rows x 6 columns]\n"
          ]
        }
      ],
      "source": [
        "# 1. Read the CSV from the given URL with and without header.\n",
        "url =r\"C:\\Users\\quite\\Downloads\\Iris.csv\"\n",
        "# Read without header (assuming no header in the CSV)\n",
        "df1 = pd.read_csv(url, header=None)\n",
        "print(df1)"
      ]
    },
    {
      "cell_type": "code",
      "execution_count": null,
      "metadata": {
        "id": "9BKvpmuoTm2m",
        "outputId": "7b981751-97f2-452b-8b03-6ea31e67a689"
      },
      "outputs": [
        {
          "name": "stdout",
          "output_type": "stream",
          "text": [
            "      Id  SepalLengthCm  SepalWidthCm  PetalLengthCm  PetalWidthCm  \\\n",
            "0      1            5.1           3.5            1.4           0.2   \n",
            "1      2            4.9           3.0            1.4           0.2   \n",
            "2      3            4.7           3.2            1.3           0.2   \n",
            "3      4            4.6           3.1            1.5           0.2   \n",
            "4      5            5.0           3.6            1.4           0.2   \n",
            "..   ...            ...           ...            ...           ...   \n",
            "145  146            6.7           3.0            5.2           2.3   \n",
            "146  147            6.3           2.5            5.0           1.9   \n",
            "147  148            6.5           3.0            5.2           2.0   \n",
            "148  149            6.2           3.4            5.4           2.3   \n",
            "149  150            5.9           3.0            5.1           1.8   \n",
            "\n",
            "            Species  \n",
            "0       Iris-setosa  \n",
            "1       Iris-setosa  \n",
            "2       Iris-setosa  \n",
            "3       Iris-setosa  \n",
            "4       Iris-setosa  \n",
            "..              ...  \n",
            "145  Iris-virginica  \n",
            "146  Iris-virginica  \n",
            "147  Iris-virginica  \n",
            "148  Iris-virginica  \n",
            "149  Iris-virginica  \n",
            "\n",
            "[150 rows x 6 columns]\n"
          ]
        }
      ],
      "source": [
        "import pandas as pd\n",
        "\n",
        "# 1. Read the CSV from the given URL with and without header.\n",
        "url = r\"C:\\Users\\quite\\Downloads\\Iris.csv\"\n",
        "# Read with header (assuming the first row contains column names)\n",
        "df = pd.read_csv(url)\n",
        "print(df)"
      ]
    },
    {
      "cell_type": "code",
      "execution_count": null,
      "metadata": {
        "id": "CmI2l6OBTm2n",
        "outputId": "154bfc30-c55f-4522-b9cb-b0a0874bf884"
      },
      "outputs": [
        {
          "name": "stdout",
          "output_type": "stream",
          "text": [
            "     SepalWidthCm  SepalLengthCm  PetalLengthCm  PetalWidthCm         Species\n",
            "0             3.5            5.1            1.4           0.2     Iris-setosa\n",
            "1             3.0            4.9            1.4           0.2     Iris-setosa\n",
            "2             3.2            4.7            1.3           0.2     Iris-setosa\n",
            "3             3.1            4.6            1.5           0.2     Iris-setosa\n",
            "4             3.6            5.0            1.4           0.2     Iris-setosa\n",
            "..            ...            ...            ...           ...             ...\n",
            "145           3.0            6.7            5.2           2.3  Iris-virginica\n",
            "146           2.5            6.3            5.0           1.9  Iris-virginica\n",
            "147           3.0            6.5            5.2           2.0  Iris-virginica\n",
            "148           3.4            6.2            5.4           2.3  Iris-virginica\n",
            "149           3.0            5.9            5.1           1.8  Iris-virginica\n",
            "\n",
            "[150 rows x 5 columns]\n"
          ]
        }
      ],
      "source": [
        "# 2. Change the order of the columns (example, changing the order of the first two columns)\n",
        "df_reorder= df[['SepalWidthCm', 'SepalLengthCm', 'PetalLengthCm', 'PetalWidthCm', 'Species']]\n",
        "print(df_reorder)"
      ]
    },
    {
      "cell_type": "code",
      "execution_count": null,
      "metadata": {
        "id": "uNypd5W7Tm2n",
        "outputId": "97f0dd5d-c4e4-42b1-871b-f7733000897c"
      },
      "outputs": [
        {
          "name": "stdout",
          "output_type": "stream",
          "text": [
            "mean: Id               75.500000\n",
            "SepalLengthCm     5.843333\n",
            "SepalWidthCm      3.054000\n",
            "PetalLengthCm     3.758667\n",
            "PetalWidthCm      1.198667\n",
            "dtype: float64\n",
            "--------------------------------------------------------------------------\n",
            "mode: Id                         1\n",
            "SepalLengthCm            5.0\n",
            "SepalWidthCm             3.0\n",
            "PetalLengthCm            1.5\n",
            "PetalWidthCm             0.2\n",
            "Species          Iris-setosa\n",
            "Name: 0, dtype: object\n",
            "--------------------------------------------------------------------------\n",
            "std_dev: Id               43.445368\n",
            "SepalLengthCm     0.828066\n",
            "SepalWidthCm      0.433594\n",
            "PetalLengthCm     1.764420\n",
            "PetalWidthCm      0.763161\n",
            "dtype: float64\n"
          ]
        },
        {
          "name": "stderr",
          "output_type": "stream",
          "text": [
            "C:\\Users\\quite\\AppData\\Local\\Temp\\ipykernel_7512\\1955642370.py:3: FutureWarning: Dropping of nuisance columns in DataFrame reductions (with 'numeric_only=None') is deprecated; in a future version this will raise TypeError.  Select only valid columns before calling the reduction.\n",
            "  mean = data_from_file.mean()\n",
            "C:\\Users\\quite\\AppData\\Local\\Temp\\ipykernel_7512\\1955642370.py:5: FutureWarning: Dropping of nuisance columns in DataFrame reductions (with 'numeric_only=None') is deprecated; in a future version this will raise TypeError.  Select only valid columns before calling the reduction.\n",
            "  std_dev = data_from_file.std()\n"
          ]
        }
      ],
      "source": [
        "# 3. Read data from \"1.csv\" file and measure mean, mode, and standard deviation\n",
        "data_from_file = pd.read_csv(r\"C:\\Users\\quite\\Downloads\\Iris.csv\")\n",
        "mean = data_from_file.mean()\n",
        "mode = data_from_file.mode().iloc[0]  # Mode can have multiple values, taking the first\n",
        "std_dev = data_from_file.std()\n",
        "print(\"mean:\", mean)\n",
        "print(\"--------------------------------------------------------------------------\")\n",
        "print(\"mode:\", mode)\n",
        "print(\"--------------------------------------------------------------------------\")\n",
        "print(\"std_dev:\", std_dev)"
      ]
    },
    {
      "cell_type": "code",
      "execution_count": null,
      "metadata": {
        "id": "jtxaFYDMTm2n",
        "outputId": "f12121e3-91e2-420a-ef61-1f6d2180319f"
      },
      "outputs": [
        {
          "data": {
            "text/html": [
              "<div>\n",
              "<style scoped>\n",
              "    .dataframe tbody tr th:only-of-type {\n",
              "        vertical-align: middle;\n",
              "    }\n",
              "\n",
              "    .dataframe tbody tr th {\n",
              "        vertical-align: top;\n",
              "    }\n",
              "\n",
              "    .dataframe thead th {\n",
              "        text-align: right;\n",
              "    }\n",
              "</style>\n",
              "<table border=\"1\" class=\"dataframe\">\n",
              "  <thead>\n",
              "    <tr style=\"text-align: right;\">\n",
              "      <th></th>\n",
              "      <th>Id</th>\n",
              "      <th>SepalLengthCm</th>\n",
              "      <th>SepalWidthCm</th>\n",
              "      <th>PetalLengthCm</th>\n",
              "      <th>PetalWidthCm</th>\n",
              "      <th>Species</th>\n",
              "    </tr>\n",
              "  </thead>\n",
              "  <tbody>\n",
              "    <tr>\n",
              "      <th>0</th>\n",
              "      <td>1</td>\n",
              "      <td>5.1</td>\n",
              "      <td>3.5</td>\n",
              "      <td>1.4</td>\n",
              "      <td>0.2</td>\n",
              "      <td>Iris-setosa</td>\n",
              "    </tr>\n",
              "    <tr>\n",
              "      <th>1</th>\n",
              "      <td>2</td>\n",
              "      <td>4.9</td>\n",
              "      <td>3.0</td>\n",
              "      <td>1.4</td>\n",
              "      <td>0.2</td>\n",
              "      <td>Iris-setosa</td>\n",
              "    </tr>\n",
              "    <tr>\n",
              "      <th>2</th>\n",
              "      <td>3</td>\n",
              "      <td>4.7</td>\n",
              "      <td>3.2</td>\n",
              "      <td>1.3</td>\n",
              "      <td>0.2</td>\n",
              "      <td>Iris-setosa</td>\n",
              "    </tr>\n",
              "  </tbody>\n",
              "</table>\n",
              "</div>"
            ],
            "text/plain": [
              "   Id  SepalLengthCm  SepalWidthCm  PetalLengthCm  PetalWidthCm      Species\n",
              "0   1            5.1           3.5            1.4           0.2  Iris-setosa\n",
              "1   2            4.9           3.0            1.4           0.2  Iris-setosa\n",
              "2   3            4.7           3.2            1.3           0.2  Iris-setosa"
            ]
          },
          "execution_count": 7,
          "metadata": {},
          "output_type": "execute_result"
        }
      ],
      "source": [
        "# 4. Read and display the first three rows\n",
        "df.head(3)"
      ]
    },
    {
      "cell_type": "code",
      "execution_count": null,
      "metadata": {
        "id": "4W9KcOaBTm2n",
        "outputId": "0e22f105-e651-454d-9cce-1f2f72b100a7"
      },
      "outputs": [
        {
          "name": "stdout",
          "output_type": "stream",
          "text": [
            "   Id  SepalLengthCm  SepalWidthCm  PetalLengthCm  PetalWidthCm      Species\n",
            "0   1            5.1           3.5            1.4           0.2  Iris-setosa\n",
            "1   2            4.9           3.0            1.4           0.2  Iris-setosa\n",
            "2   3            4.7           3.2            1.3           0.2  Iris-setosa\n",
            "3   4            4.6           3.1            1.5           0.2  Iris-setosa\n",
            "4   5            5.0           3.6            1.4           0.2  Iris-setosa\n"
          ]
        }
      ],
      "source": [
        "# 5. Read and display the first n samples\n",
        "n = 5\n",
        "first_n_samples = df.head(n)\n",
        "print(first_n_samples)"
      ]
    },
    {
      "cell_type": "code",
      "execution_count": null,
      "metadata": {
        "id": "Vcn4tCdCTm2n",
        "outputId": "ef9de350-ae96-45e3-a94d-ed511ea66c38"
      },
      "outputs": [
        {
          "name": "stdout",
          "output_type": "stream",
          "text": [
            "number of columns: 6\n",
            "column names: ['Id', 'SepalLengthCm', 'SepalWidthCm', 'PetalLengthCm', 'PetalWidthCm', 'Species']\n"
          ]
        }
      ],
      "source": [
        "# 6. Display the number of columns and their names\n",
        "\n",
        "num_columns = len(df.columns)\n",
        "column_names = df.columns.tolist()\n",
        "print(\"number of columns:\",num_columns )\n",
        "print(\"column names:\",column_names)"
      ]
    },
    {
      "cell_type": "code",
      "execution_count": null,
      "metadata": {
        "id": "PUPOt6wfTm2n",
        "outputId": "86c7d82e-b0d2-4e26-f0a6-9f9e432fdcc2"
      },
      "outputs": [
        {
          "name": "stdout",
          "output_type": "stream",
          "text": [
            "     SepalWidthCm  PetalLengthCm  PetalWidthCm\n",
            "0             3.5            1.4           0.2\n",
            "1             3.0            1.4           0.2\n",
            "2             3.2            1.3           0.2\n",
            "3             3.1            1.5           0.2\n",
            "4             3.6            1.4           0.2\n",
            "..            ...            ...           ...\n",
            "145           3.0            5.2           2.3\n",
            "146           2.5            5.0           1.9\n",
            "147           3.0            5.2           2.0\n",
            "148           3.4            5.4           2.3\n",
            "149           3.0            5.1           1.8\n",
            "\n",
            "[150 rows x 3 columns]\n"
          ]
        }
      ],
      "source": [
        "# 7. Display columns using column slicing (n to m)\n",
        "n = 2  # Start column index\n",
        "m = 4  # End column index (inclusive)\n",
        "columns_n_to_m = df.iloc[:, n:m+1]\n",
        "\n",
        "print(columns_n_to_m)"
      ]
    },
    {
      "cell_type": "code",
      "execution_count": null,
      "metadata": {
        "id": "fl4jpHGqTm2n",
        "outputId": "6640d6f9-86b7-4fcd-f2df-419d7ffce0cc"
      },
      "outputs": [
        {
          "name": "stdout",
          "output_type": "stream",
          "text": [
            "    Id  SepalLengthCm  SepalWidthCm  PetalLengthCm  PetalWidthCm      Species\n",
            "13  14            4.3           3.0            1.1           0.1  Iris-setosa\n",
            "14  15            5.8           4.0            1.2           0.2  Iris-setosa\n",
            "15  16            5.7           4.4            1.5           0.4  Iris-setosa\n",
            "16  17            5.4           3.9            1.3           0.4  Iris-setosa\n",
            "17  18            5.1           3.5            1.4           0.3  Iris-setosa\n",
            "18  19            5.7           3.8            1.7           0.3  Iris-setosa\n",
            "19  20            5.1           3.8            1.5           0.3  Iris-setosa\n",
            "20  21            5.4           3.4            1.7           0.2  Iris-setosa\n",
            "21  22            5.1           3.7            1.5           0.4  Iris-setosa\n",
            "22  23            4.6           3.6            1.0           0.2  Iris-setosa\n",
            "23  24            5.1           3.3            1.7           0.5  Iris-setosa\n",
            "24  25            4.8           3.4            1.9           0.2  Iris-setosa\n",
            "25  26            5.0           3.0            1.6           0.2  Iris-setosa\n",
            "26  27            5.0           3.4            1.6           0.4  Iris-setosa\n",
            "27  28            5.2           3.5            1.5           0.2  Iris-setosa\n",
            "28  29            5.2           3.4            1.4           0.2  Iris-setosa\n",
            "29  30            4.7           3.2            1.6           0.2  Iris-setosa\n",
            "30  31            4.8           3.1            1.6           0.2  Iris-setosa\n",
            "31  32            5.4           3.4            1.5           0.4  Iris-setosa\n",
            "32  33            5.2           4.1            1.5           0.1  Iris-setosa\n",
            "33  34            5.5           4.2            1.4           0.2  Iris-setosa\n"
          ]
        }
      ],
      "source": [
        "# 8. Display rows using row slicing (14th to 34th rows)\n",
        "rows = df.iloc[13:34]\n",
        "print(rows)"
      ]
    },
    {
      "cell_type": "code",
      "execution_count": null,
      "metadata": {
        "id": "ZOa-EiksTm2n",
        "outputId": "88ee6b3e-5c5f-48c1-ca7f-e67c36a489a5"
      },
      "outputs": [
        {
          "name": "stdout",
          "output_type": "stream",
          "text": [
            "    SepalLengthCm  PetalLengthCm\n",
            "10            5.4            1.5\n",
            "11            4.8            1.6\n",
            "12            4.8            1.4\n",
            "13            4.3            1.1\n",
            "14            5.8            1.2\n",
            "15            5.7            1.5\n"
          ]
        }
      ],
      "source": [
        "# 9. Display specific rows and columns using \"iloc\" and \"loc\" functions\n",
        "specific_rows_columns = df.loc[10:15, ['SepalLengthCm', 'PetalLengthCm']]\n",
        "print(specific_rows_columns)"
      ]
    },
    {
      "cell_type": "code",
      "execution_count": null,
      "metadata": {
        "id": "TdfZbL4xTm2n",
        "outputId": "324e2ead-0a68-4fa8-c2b3-7008e4e6ef16"
      },
      "outputs": [
        {
          "name": "stdout",
          "output_type": "stream",
          "text": [
            "[5.1 4.9 4.7 4.6 5.  5.4 4.4 4.8 4.3 5.8 5.7 5.2 5.5 4.5 5.3 7.  6.4 6.9\n",
            " 6.5 6.3 6.6 5.9 6.  6.1 5.6 6.7 6.2 6.8 7.1 7.6 7.3 7.2 7.7 7.4 7.9]\n"
          ]
        }
      ],
      "source": [
        "# 10. Count unique values in the first column\n",
        "unique_values_count = df['SepalLengthCm'].unique()\n",
        "print(unique_values_count)"
      ]
    },
    {
      "cell_type": "code",
      "execution_count": null,
      "metadata": {
        "id": "udGgvgCXTm2n",
        "outputId": "dee7fd9a-2995-42b8-ff7b-02f5d7ce0c29"
      },
      "outputs": [
        {
          "name": "stdout",
          "output_type": "stream",
          "text": [
            "mean: 5.843333333333335\n",
            "median: 5.8\n",
            "mode: 5.0\n"
          ]
        }
      ],
      "source": [
        "# 11. Calculate mean, median, and mode for a specific column (e.g., 'sepal_length')\n",
        "column_name = 'SepalLengthCm'\n",
        "mean= df[column_name].mean()\n",
        "median= df[column_name].median()\n",
        "mode= df[column_name].mode().iloc[0]\n",
        "print(\"mean:\", mean)\n",
        "print(\"median:\", median)\n",
        "print(\"mode:\", mode)"
      ]
    },
    {
      "cell_type": "code",
      "execution_count": null,
      "metadata": {
        "id": "msaSSJY4Tm2n"
      },
      "outputs": [],
      "source": []
    }
  ],
  "metadata": {
    "kernelspec": {
      "display_name": "Python 3 (ipykernel)",
      "language": "python",
      "name": "python3"
    },
    "language_info": {
      "codemirror_mode": {
        "name": "ipython",
        "version": 3
      },
      "file_extension": ".py",
      "mimetype": "text/x-python",
      "name": "python",
      "nbconvert_exporter": "python",
      "pygments_lexer": "ipython3",
      "version": "3.9.12"
    },
    "colab": {
      "provenance": [],
      "include_colab_link": true
    }
  },
  "nbformat": 4,
  "nbformat_minor": 0
}