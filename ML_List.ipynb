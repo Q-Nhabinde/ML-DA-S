{
  "cells": [
    {
      "cell_type": "markdown",
      "metadata": {
        "id": "view-in-github",
        "colab_type": "text"
      },
      "source": [
        "<a href=\"https://colab.research.google.com/github/Q-Nhabinde/ML-DA-S/blob/main/ML_List.ipynb\" target=\"_parent\"><img src=\"https://colab.research.google.com/assets/colab-badge.svg\" alt=\"Open In Colab\"/></a>"
      ]
    },
    {
      "cell_type": "code",
      "execution_count": null,
      "metadata": {
        "id": "IaDIHZeUT--d"
      },
      "outputs": [],
      "source": [
        "LIST TUTORIALS"
      ]
    },
    {
      "cell_type": "code",
      "execution_count": null,
      "metadata": {
        "id": "vSXQ24TCT--f"
      },
      "outputs": [],
      "source": [
        "#1. What will be the output of the following code snippet?\n",
        "\n",
        "import numpy as np\n",
        "a = [4,6,7,3,2]\n",
        "b = [x for x in a if x > 5]\n",
        "print(b)"
      ]
    },
    {
      "cell_type": "code",
      "execution_count": null,
      "metadata": {
        "id": "fKyhs14-T--f"
      },
      "outputs": [],
      "source": [
        "#2. What will be the output of the following snippet?\n",
        "c = []\n",
        "for x in a:\n",
        "    if x > 5:\n",
        "        c.append(x)\n",
        "        print(c)"
      ]
    },
    {
      "cell_type": "code",
      "execution_count": null,
      "metadata": {
        "id": "7EIuZo-ET--f"
      },
      "outputs": [],
      "source": [
        "#3. Consider the list a as an input list. Create a new list d such that it stores the\n",
        "#square of element x in a , if x >= threshold value using list comprehension.\n",
        "#Set the threshold value t=5. Accept all the inputs from the user and print the list d.\n",
        "\n",
        "t=5\n",
        "a=[]\n",
        "\n",
        "for i in range(n):\n",
        "    el = int(input(\"Enter elements:\"(i+1)))\n",
        "    el.append(a)\n",
        "\n",
        "d=[x**2 for x in a if t>5]\n",
        "\n",
        "print(d)"
      ]
    },
    {
      "cell_type": "code",
      "execution_count": null,
      "metadata": {
        "id": "b51xhLePT--g",
        "outputId": "b011126e-cf04-4f31-c774-d0fc4573dd99"
      },
      "outputs": [
        {
          "ename": "AttributeError",
          "evalue": "'list' object has no attribute 'startswith'",
          "output_type": "error",
          "traceback": [
            "\u001b[1;31m---------------------------------------------------------------------------\u001b[0m",
            "\u001b[1;31mAttributeError\u001b[0m                            Traceback (most recent call last)",
            "\u001b[1;32m<ipython-input-5-9df0c0cc4762>\u001b[0m in \u001b[0;36m<module>\u001b[1;34m\u001b[0m\n\u001b[0;32m      4\u001b[0m \u001b[0mS\u001b[0m \u001b[1;33m=\u001b[0m \u001b[1;33m[\u001b[0m\u001b[1;34m'Ch'\u001b[0m\u001b[1;33m,\u001b[0m\u001b[1;34m'Dh'\u001b[0m\u001b[1;33m,\u001b[0m\u001b[1;34m'Eh'\u001b[0m\u001b[1;33m,\u001b[0m\u001b[1;34m'cb'\u001b[0m\u001b[1;33m,\u001b[0m\u001b[1;34m'Tb'\u001b[0m\u001b[1;33m,\u001b[0m\u001b[1;34m'Td'\u001b[0m\u001b[1;33m]\u001b[0m\u001b[1;33m\u001b[0m\u001b[1;33m\u001b[0m\u001b[0m\n\u001b[0;32m      5\u001b[0m \u001b[0ms1\u001b[0m\u001b[1;33m=\u001b[0m\u001b[1;33m[\u001b[0m\u001b[1;33m]\u001b[0m\u001b[1;33m\u001b[0m\u001b[1;33m\u001b[0m\u001b[0m\n\u001b[1;32m----> 6\u001b[1;33m \u001b[0mprint\u001b[0m\u001b[1;33m(\u001b[0m\u001b[0mS\u001b[0m\u001b[1;33m.\u001b[0m\u001b[0mstartswith\u001b[0m\u001b[1;33m(\u001b[0m\u001b[1;34m'c'\u001b[0m\u001b[1;33m)\u001b[0m\u001b[1;33m)\u001b[0m\u001b[1;33m\u001b[0m\u001b[1;33m\u001b[0m\u001b[0m\n\u001b[0m\u001b[0;32m      7\u001b[0m \u001b[0mprint\u001b[0m\u001b[1;33m(\u001b[0m\u001b[0ms1\u001b[0m\u001b[1;33m)\u001b[0m\u001b[1;33m\u001b[0m\u001b[1;33m\u001b[0m\u001b[0m\n\u001b[0;32m      8\u001b[0m \u001b[1;33m\u001b[0m\u001b[0m\n",
            "\u001b[1;31mAttributeError\u001b[0m: 'list' object has no attribute 'startswith'"
          ]
        }
      ],
      "source": [
        "#4.Given a list of strings named s as follows. Find all the strings who start with\n",
        "#the small letter c and append it into the new list s1.\n",
        "\n",
        "S = ['Ch','Dh','Eh','cb','Tb','Td']\n",
        "s1=[]\n",
        "\n",
        "for String in S:\n",
        "    if String.startswith('c'):\n",
        "        S.append(s1)\n",
        "        print(s1)\n",
        ""
      ]
    },
    {
      "cell_type": "code",
      "execution_count": null,
      "metadata": {
        "id": "57JmHQscT--h",
        "outputId": "cc443497-f922-4f4d-ea8f-358b3610dcef"
      },
      "outputs": [
        {
          "ename": "AttributeError",
          "evalue": "'str' object has no attribute 'endtwith'",
          "output_type": "error",
          "traceback": [
            "\u001b[1;31m---------------------------------------------------------------------------\u001b[0m",
            "\u001b[1;31mAttributeError\u001b[0m                            Traceback (most recent call last)",
            "\u001b[1;32m<ipython-input-6-8d51dc791959>\u001b[0m in \u001b[0;36m<module>\u001b[1;34m\u001b[0m\n\u001b[0;32m      4\u001b[0m \u001b[0ms1\u001b[0m\u001b[1;33m=\u001b[0m\u001b[1;33m[\u001b[0m\u001b[1;33m]\u001b[0m\u001b[1;33m\u001b[0m\u001b[1;33m\u001b[0m\u001b[0m\n\u001b[0;32m      5\u001b[0m \u001b[1;32mfor\u001b[0m \u001b[0mString\u001b[0m \u001b[1;32min\u001b[0m \u001b[0mS\u001b[0m\u001b[1;33m:\u001b[0m\u001b[1;33m\u001b[0m\u001b[1;33m\u001b[0m\u001b[0m\n\u001b[1;32m----> 6\u001b[1;33m     \u001b[1;32mif\u001b[0m \u001b[0mString\u001b[0m\u001b[1;33m.\u001b[0m\u001b[0mstartswith\u001b[0m\u001b[1;33m(\u001b[0m\u001b[1;34m'c'\u001b[0m\u001b[1;33m)\u001b[0m \u001b[1;32mand\u001b[0m \u001b[0mString\u001b[0m\u001b[1;33m.\u001b[0m\u001b[0mendtwith\u001b[0m\u001b[1;33m(\u001b[0m\u001b[1;34m'b'\u001b[0m\u001b[1;33m)\u001b[0m\u001b[1;33m:\u001b[0m\u001b[1;33m\u001b[0m\u001b[1;33m\u001b[0m\u001b[0m\n\u001b[0m\u001b[0;32m      7\u001b[0m         \u001b[0mS\u001b[0m\u001b[1;33m.\u001b[0m\u001b[0mappend\u001b[0m\u001b[1;33m(\u001b[0m\u001b[0ms1\u001b[0m\u001b[1;33m)\u001b[0m\u001b[1;33m\u001b[0m\u001b[1;33m\u001b[0m\u001b[0m\n\u001b[0;32m      8\u001b[0m         \u001b[0mprint\u001b[0m\u001b[1;33m(\u001b[0m\u001b[0ms1\u001b[0m\u001b[1;33m)\u001b[0m\u001b[1;33m\u001b[0m\u001b[1;33m\u001b[0m\u001b[0m\n",
            "\u001b[1;31mAttributeError\u001b[0m: 'str' object has no attribute 'endtwith'"
          ]
        }
      ],
      "source": [
        "#a. It should starts with small letter ‘c’\n",
        "#b. It should ends with small letter ‘b’\n",
        "S = ['Ch','Dh','Eh','cb','Tb','Td']\n",
        "s1=[]\n",
        "for String in S:\n",
        "    if String.startswith('c') and String.endtwith('b'):\n",
        "        S.append(s1)\n",
        "        print(s1)\n"
      ]
    },
    {
      "cell_type": "code",
      "execution_count": null,
      "metadata": {
        "id": "qjkd_oFaT--i",
        "outputId": "9a16b70a-8545-4668-b209-c8712239cfbd"
      },
      "outputs": [
        {
          "name": "stdout",
          "output_type": "stream",
          "text": [
            "[100, 200, 300, 45, 52, 23, 13, 26, 62]\n",
            "[13, 23, 26, 45, 52, 62, 100, 200, 300]\n",
            "[[13, 26, 62], [45, 52, 23], [100, 200, 300]]\n"
          ]
        }
      ],
      "source": [
        "#6. Consider the following nested list. Write a list comprehension to read each\n",
        "#element of the nested list and create a consolidated list consisting of all\n",
        "#elements in an ascending order.\n",
        "\n",
        "vals = [[100,200,300],[45,52,23],[13,26,62]]\n",
        "n= [item for l1 in vals for item in l1]\n",
        "print(n)\n",
        "n.sort()\n",
        "print(n)\n",
        "\n",
        "vals.sort()\n",
        "print(vals)"
      ]
    },
    {
      "cell_type": "code",
      "execution_count": null,
      "metadata": {
        "id": "afJy8OCkT--i"
      },
      "outputs": [],
      "source": []
    },
    {
      "cell_type": "code",
      "execution_count": null,
      "metadata": {
        "id": "tBjoP7FST--i"
      },
      "outputs": [],
      "source": [
        "DICTIONARY TUTORIALS"
      ]
    },
    {
      "cell_type": "code",
      "execution_count": null,
      "metadata": {
        "id": "3cbTKOLmT--i",
        "outputId": "721e87f8-7e90-4392-d9cb-fe809918c91a"
      },
      "outputs": [
        {
          "name": "stdout",
          "output_type": "stream",
          "text": [
            "dict_keys([1, 2])\n"
          ]
        }
      ],
      "source": [
        "#1. Create the nested dictionary as mentioned below.\n",
        "#Write a python program to print each element using a key (index).\n",
        "\n",
        "people = {1: {'name': 'Meera', 'age': '27', 'gender': 'Female'},\n",
        "2: {'name': 'Mahesh', 'age': '22', 'gender': 'Male'}}\n",
        "\n",
        "x=people.keys()\n",
        "print(x)"
      ]
    },
    {
      "cell_type": "code",
      "execution_count": null,
      "metadata": {
        "id": "CgiWxm17T--i"
      },
      "outputs": [],
      "source": []
    }
  ],
  "metadata": {
    "kernelspec": {
      "display_name": "Python 3",
      "language": "python",
      "name": "python3"
    },
    "language_info": {
      "codemirror_mode": {
        "name": "ipython",
        "version": 3
      },
      "file_extension": ".py",
      "mimetype": "text/x-python",
      "name": "python",
      "nbconvert_exporter": "python",
      "pygments_lexer": "ipython3",
      "version": "3.7.3"
    },
    "colab": {
      "provenance": [],
      "include_colab_link": true
    }
  },
  "nbformat": 4,
  "nbformat_minor": 0
}