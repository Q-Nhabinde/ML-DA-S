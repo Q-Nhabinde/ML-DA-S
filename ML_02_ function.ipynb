{
  "cells": [
    {
      "cell_type": "markdown",
      "metadata": {
        "id": "view-in-github",
        "colab_type": "text"
      },
      "source": [
        "<a href=\"https://colab.research.google.com/github/Q-Nhabinde/ML-DA-S/blob/main/ML_02_%20function.ipynb\" target=\"_parent\"><img src=\"https://colab.research.google.com/assets/colab-badge.svg\" alt=\"Open In Colab\"/></a>"
      ]
    },
    {
      "cell_type": "code",
      "execution_count": null,
      "id": "b66da748",
      "metadata": {
        "id": "b66da748"
      },
      "outputs": [],
      "source": [
        "import numpy as np"
      ]
    },
    {
      "cell_type": "code",
      "execution_count": null,
      "id": "9a7e7bab",
      "metadata": {
        "id": "9a7e7bab",
        "outputId": "a0e91b3c-ff84-4948-e6b7-b462d612477b"
      },
      "outputs": [
        {
          "name": "stdout",
          "output_type": "stream",
          "text": [
            "Arrays linspace: [ 1.    3.25  5.5   7.75 10.  ]\n",
            "--------------------------------------------------------------------------\n",
            "Array repeat: [3 3 3 3]\n",
            "--------------------------------------------------------------------------\n",
            "Array Random: [[0.25458965 0.46699484]\n",
            " [0.3527139  0.41972761]\n",
            " [0.58007813 0.59765947]]\n",
            "--------------------------------------------------------------------------\n",
            "Array NaN: nan\n",
            "--------------------------------------------------------------------------\n",
            "Minimam Value: 2\n",
            "--------------------------------------------------------------------------\n",
            "Maximam Value: 8\n",
            "--------------------------------------------------------------------------\n",
            "[4 2 8 6 5]\n",
            "--------------------------------------------------------------------------\n",
            "Array Shape: [[1 2]\n",
            " [3 4]\n",
            " [5 6]]\n",
            "--------------------------------------------------------------------------\n",
            "Maximum argument: [10 30 20 40 50]\n",
            "--------------------------------------------------------------------------\n",
            "argument index: 4\n",
            "--------------------------------------------------------------------------\n",
            "Array reshape: [[ 0  1  2  3]\n",
            " [ 4  5  6  7]\n",
            " [ 8  9 10 11]]\n",
            "--------------------------------------------------------------------------\n",
            "Computation of histogram: [1 2 2] [ 0 20 40 60]\n",
            "--------------------------------------------------------------------------\n",
            "Array mean value: 30.0\n",
            "--------------------------------------------------------------------------\n",
            "[5 3 1 4 2]\n",
            "--------------------------------------------------------------------------\n",
            "Sorted Array: [1 2 3 4 5]\n"
          ]
        }
      ],
      "source": [
        "import numpy as np\n",
        "\n",
        "# 1. Demonstrate the working of specified functions:\n",
        "\n",
        "# numpy.linspace()\n",
        "a_linspace = np.linspace(1, 10, 5)\n",
        "print(\"Arrays linspace:\",a_linspace )\n",
        "print(\"--------------------------------------------------------------------------\")\n",
        "# numpy.repeat()\n",
        "a_repeat = np.repeat(3, 4)\n",
        "print(\"Array repeat:\",a_repeat)\n",
        "print(\"--------------------------------------------------------------------------\")\n",
        "# numpy.random()\n",
        "a_random = np.random.rand(3, 2)\n",
        "print(\"Array Random:\",a_random)\n",
        "print(\"--------------------------------------------------------------------------\")\n",
        "# numpy.nan()\n",
        "a_nan = np.nan\n",
        "print(\"Array NaN:\",a_nan)\n",
        "print(\"--------------------------------------------------------------------------\")\n",
        "# numpy.min() and numpy.max()\n",
        "a = np.array([4, 2, 8, 6, 5])\n",
        "min_val = np.min(a)\n",
        "max_val = np.max(a)\n",
        "print(\"Minimam Value:\",min_val)\n",
        "print(\"--------------------------------------------------------------------------\")\n",
        "print(\"Maximam Value:\",max_val)\n",
        "print(\"--------------------------------------------------------------------------\")\n",
        "\n",
        "# numpy.shape()\n",
        "a_shape = np.array([[1, 2], [3, 4], [5, 6]])\n",
        "shape = np.shape(a_shape)\n",
        "print(a)\n",
        "print(\"--------------------------------------------------------------------------\")\n",
        "print(\"Array Shape:\",a_shape)\n",
        "\n",
        "print(\"--------------------------------------------------------------------------\")\n",
        "# numpy.argmax()\n",
        "a_argmax = np.array([10, 30, 20, 40, 50])\n",
        "argmax_idx = np.argmax(a_argmax)\n",
        "print(\"Maximum argument:\",a_argmax)\n",
        "print(\"--------------------------------------------------------------------------\")\n",
        "print(\"argument index:\",argmax_idx)\n",
        "\n",
        "print(\"--------------------------------------------------------------------------\")\n",
        "# numpy.reshape()\n",
        "a_reshape = np.arange(12).reshape(3, 4)\n",
        "print(\"Array reshape:\",a_reshape)\n",
        "\n",
        "print(\"--------------------------------------------------------------------------\")\n",
        "# numpy.histogram()\n",
        "hist_values, bin_edges = np.histogram(a_argmax, bins=[0, 20, 40, 60])\n",
        "print(\"Computation of histogram:\",hist_values, bin_edges)\n",
        "\n",
        "print(\"--------------------------------------------------------------------------\")\n",
        "# numpy.mean()\n",
        "mean_val = np.mean(a_argmax)\n",
        "print(\"Array mean value:\",mean_val)\n",
        "\n",
        "print(\"--------------------------------------------------------------------------\")\n",
        "# numpy.sort()\n",
        "a_sort = np.array([5, 3, 1, 4, 2])\n",
        "sorted_a = np.sort(a_sort)\n",
        "print(a_sort)\n",
        "print(\"--------------------------------------------------------------------------\")\n",
        "print(\"Sorted Array:\",sorted_a)"
      ]
    },
    {
      "cell_type": "code",
      "execution_count": null,
      "id": "e109fb6f",
      "metadata": {
        "id": "e109fb6f",
        "outputId": "940237d0-1802-4b39-9bef-d81d92a78f9e"
      },
      "outputs": [
        {
          "name": "stdout",
          "output_type": "stream",
          "text": [
            "Shape: (4, 2)\n",
            "Dimensions: 2\n"
          ]
        }
      ],
      "source": [
        "# 2. Create a 4x2 integer array and print its attributes:\n",
        "arr_4x2 = np.array([[1, 2], [3, 4], [5, 6], [7, 8]])\n",
        "print(\"Shape:\", arr_4x2.shape)\n",
        "print(\"Dimensions:\", arr_4x2.ndim)"
      ]
    },
    {
      "cell_type": "code",
      "execution_count": null,
      "id": "f1e856b7",
      "metadata": {
        "id": "f1e856b7",
        "outputId": "8ab18e11-c806-4047-dbf3-791cdf65c685"
      },
      "outputs": [
        {
          "name": "stdout",
          "output_type": "stream",
          "text": [
            "[[100 110]\n",
            " [120 130]\n",
            " [140 150]\n",
            " [160 170]\n",
            " [180 190]]\n"
          ]
        }
      ],
      "source": [
        "# 3. Create a 5x2 integer array with values ranging from 100 to 200 in steps of 10:\n",
        "arr_range = np.arange(100, 200, 10).reshape(5, 2)\n",
        "print(arr_range)"
      ]
    },
    {
      "cell_type": "code",
      "execution_count": null,
      "id": "b1abaeac",
      "metadata": {
        "id": "b1abaeac",
        "outputId": "01737490-a962-45c9-babd-c0976e0ebc10"
      },
      "outputs": [
        {
          "name": "stdout",
          "output_type": "stream",
          "text": [
            "[[11 22 33]\n",
            " [44 55 66]\n",
            " [77 88 99]]\n",
            "third_column: [33 66 99]\n"
          ]
        }
      ],
      "source": [
        "# 4. Return the third column from all rows of the provided array:\n",
        "a = np.array([[11, 22, 33], [44, 55, 66], [77, 88, 99]])\n",
        "third_column = a[:, 2]\n",
        "print(a)\n",
        "print(\"--------------------------------------------------------------------------\")\n",
        "print(\"third_column:\", third_column)"
      ]
    },
    {
      "cell_type": "code",
      "execution_count": null,
      "id": "30a86765",
      "metadata": {
        "id": "30a86765",
        "outputId": "80889dd2-4964-494b-a662-1aba67affe03"
      },
      "outputs": [
        {
          "name": "stdout",
          "output_type": "stream",
          "text": [
            "[[ 3  6  9 12]\n",
            " [15 18 21 24]\n",
            " [27 30 33 36]\n",
            " [39 42 45 48]\n",
            " [51 54 57 60]]\n",
            "odd_rows_even_columns: [[ 6 12]\n",
            " [30 36]\n",
            " [54 60]]\n"
          ]
        }
      ],
      "source": [
        "# 5. Return odd rows and even columns from a given array:\n",
        "a = np.array([[3, 6, 9, 12], [15, 18, 21, 24], [27, 30, 33, 36], [39, 42, 45, 48], [51, 54, 57, 60]])\n",
        "odd_rows_even_columns = a[::2, 1::2]\n",
        "print(a)\n",
        "print(\"--------------------------------------------------------------------------\")\n",
        "print(\"odd_rows_even_columns:\", odd_rows_even_columns)"
      ]
    },
    {
      "cell_type": "code",
      "execution_count": null,
      "id": "63541054",
      "metadata": {
        "id": "63541054",
        "outputId": "3237d4dc-301e-47f9-e9d1-e22d91a54f8b"
      },
      "outputs": [
        {
          "name": "stdout",
          "output_type": "stream",
          "text": [
            "result_array: [[ 625 2025 1444]\n",
            " [ 841 1225  900]]\n"
          ]
        }
      ],
      "source": [
        "# 6. Create a result array by adding and then squaring two arrays:\n",
        "a1 = np.array([[8, 9, 10], [23, 28, 29]])\n",
        "a2 = np.array([[17, 36, 28], [6, 7, 1]])\n",
        "result_array = (a1 + a2) ** 2\n",
        "\n",
        "print(\"result_array:\",result_array )"
      ]
    },
    {
      "cell_type": "code",
      "execution_count": null,
      "id": "01fd0f3f",
      "metadata": {
        "id": "01fd0f3f",
        "outputId": "b0f1757a-2106-4413-b420-31ed3be8986d"
      },
      "outputs": [
        {
          "name": "stdout",
          "output_type": "stream",
          "text": [
            "arr_split [[10 11 12]\n",
            " [13 14 15]\n",
            " [16 17 18]\n",
            " [19 20 21]\n",
            " [22 23 24]\n",
            " [25 26 27]\n",
            " [28 29 30]\n",
            " [31 32 33]]\n",
            "sub_arrays [array([[10, 11, 12],\n",
            "       [13, 14, 15]]), array([[16, 17, 18],\n",
            "       [19, 20, 21]]), array([[22, 23, 24],\n",
            "       [25, 26, 27]]), array([[28, 29, 30],\n",
            "       [31, 32, 33]])]\n"
          ]
        }
      ],
      "source": [
        "# 7. Split an array into four equal-sized sub-arrays:\n",
        "arr_split = np.arange(10, 34).reshape(8, 3)\n",
        "sub_arrays = np.split(arr_split, 4)\n",
        "print(\"arr_split\", arr_split)\n",
        "print(\"--------------------------------------------------------------------------\")\n",
        "print(\"sub_arrays\", sub_arrays)"
      ]
    },
    {
      "cell_type": "code",
      "execution_count": null,
      "id": "081c4993",
      "metadata": {
        "id": "081c4993",
        "outputId": "9544ee1e-b45a-4156-b011-de5b092c6ae7"
      },
      "outputs": [
        {
          "name": "stdout",
          "output_type": "stream",
          "text": [
            "sorted by the second row: [[77 46 36]\n",
            " [19 28 87]\n",
            " [68 97 55]]\n",
            "--------------------------------------------------------------------------\n",
            "sorted by the second column: [[87 28 19]\n",
            " [36 46 77]\n",
            " [55 97 68]]\n"
          ]
        }
      ],
      "source": [
        "# 8. Sort a numpy array by the second row and second column:\n",
        "sampleArray = np.array([[36, 46, 77], [87, 28, 19], [55, 97, 68]])\n",
        "sorted_by_second_row = sampleArray[:, sampleArray[1].argsort()]\n",
        "sorted_by_second_column = sampleArray[sampleArray[:, 1].argsort()]\n",
        "print(\"sorted by the second row:\",sorted_by_second_row)\n",
        "print(\"--------------------------------------------------------------------------\")\n",
        "print(\"sorted by the second column:\",sorted_by_second_column)"
      ]
    },
    {
      "cell_type": "code",
      "execution_count": null,
      "id": "4e4f0632",
      "metadata": {
        "id": "4e4f0632",
        "outputId": "39a2729e-751f-416e-e7ab-e4cbcf3fbe37"
      },
      "outputs": [
        {
          "name": "stdout",
          "output_type": "stream",
          "text": [
            "max axis 0: [83 96 77]\n",
            "--------------------------------------------------------------------------\n",
            "mix axis 1: [35 13 55]\n"
          ]
        }
      ],
      "source": [
        "# 9. Print max from axis 0 and min from axis 1 of a 2-D array:\n",
        "a = np.array([[35, 46, 77], [83, 23, 13], [55, 96, 67]])\n",
        "max_axis0 = np.max(a, axis=0)\n",
        "min_axis1 = np.min(a, axis=1)\n",
        "\n",
        "print(\"max axis 0:\",max_axis0)\n",
        "print(\"--------------------------------------------------------------------------\")\n",
        "print(\"mix axis 1:\",min_axis1)"
      ]
    },
    {
      "cell_type": "code",
      "execution_count": null,
      "id": "17ba975d",
      "metadata": {
        "id": "17ba975d"
      },
      "outputs": [],
      "source": [
        "# 10. Delete the second column and insert a new column:\n",
        "a = np.array([[44, 45, 76], [84, 24, 15], [56, 97, 68]])\n",
        "newColumn = np.array([[20, 20, 20]])\n",
        "a = np.delete(a, 1, axis=1)\n",
        "a = np.insert(a, 1, newColumn, axis=1)"
      ]
    }
  ],
  "metadata": {
    "kernelspec": {
      "display_name": "Python 3 (ipykernel)",
      "language": "python",
      "name": "python3"
    },
    "language_info": {
      "codemirror_mode": {
        "name": "ipython",
        "version": 3
      },
      "file_extension": ".py",
      "mimetype": "text/x-python",
      "name": "python",
      "nbconvert_exporter": "python",
      "pygments_lexer": "ipython3",
      "version": "3.9.12"
    },
    "colab": {
      "provenance": [],
      "include_colab_link": true
    }
  },
  "nbformat": 4,
  "nbformat_minor": 5
}